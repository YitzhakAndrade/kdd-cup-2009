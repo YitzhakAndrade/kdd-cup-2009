{
 "cells": [
  {
   "cell_type": "code",
   "execution_count": 1,
   "metadata": {},
   "outputs": [],
   "source": [
    "import pandas as pd\n",
    "import numpy as np\n",
    "import matplotlib.pyplot as plt\n",
    "from sklearn import preprocessing"
   ]
  },
  {
   "cell_type": "code",
   "execution_count": 2,
   "metadata": {},
   "outputs": [
    {
     "name": "stdout",
     "output_type": "stream",
     "text": [
      "df_train:  (50000, 230)\n",
      "df_test:  (50000, 230)\n"
     ]
    }
   ],
   "source": [
    "def read_file(file_path):\n",
    "    return pd.read_csv(file_path, sep='\\t')\n",
    "\n",
    "train_file = './data/orange_small_train.data'\n",
    "test_file = './data/orange_small_test.data'\n",
    "\n",
    "df_train = read_file(train_file)\n",
    "df_test = read_file(test_file)\n",
    "\n",
    "print('df_train: ', df_train.shape)\n",
    "print('df_test: ', df_test.shape)"
   ]
  },
  {
   "cell_type": "code",
   "execution_count": 3,
   "metadata": {},
   "outputs": [
    {
     "name": "stdout",
     "output_type": "stream",
     "text": [
      "Y_appetency:  50000\n",
      "Y_churn:  50000\n",
      "Y_upselling:  50000\n"
     ]
    }
   ],
   "source": [
    "def read_label_file(file_path):\n",
    "    df = pd.read_csv(file_path, header=-1)[0] == 1\n",
    "    return df.values\n",
    "\n",
    "appetency_label_file = './data/orange_small_train_appetency.labels'\n",
    "churn_label_file = './data/orange_small_train_churn.labels'\n",
    "upselling_label_file = './data/orange_small_train_upselling.labels'\n",
    "\n",
    "Y_appetency = read_label_file(appetency_label_file)\n",
    "Y_churn = read_label_file(churn_label_file)\n",
    "Y_upselling = read_label_file(upselling_label_file)\n",
    "\n",
    "dict_Y = {}\n",
    "dict_Y['Y_appetency'] = Y_appetency\n",
    "dict_Y['Y_churn'] = Y_churn\n",
    "dict_Y['Y_upselling'] = Y_upselling\n",
    "\n",
    "print('Y_appetency: ', Y_appetency.size)\n",
    "print('Y_churn: ', Y_churn.size)\n",
    "print('Y_upselling: ', Y_upselling.size)"
   ]
  },
  {
   "cell_type": "code",
   "execution_count": 4,
   "metadata": {},
   "outputs": [
    {
     "data": {
      "text/html": [
       "<div>\n",
       "<style scoped>\n",
       "    .dataframe tbody tr th:only-of-type {\n",
       "        vertical-align: middle;\n",
       "    }\n",
       "\n",
       "    .dataframe tbody tr th {\n",
       "        vertical-align: top;\n",
       "    }\n",
       "\n",
       "    .dataframe thead th {\n",
       "        text-align: right;\n",
       "    }\n",
       "</style>\n",
       "<table border=\"1\" class=\"dataframe\">\n",
       "  <thead>\n",
       "    <tr style=\"text-align: right;\">\n",
       "      <th></th>\n",
       "      <th>Var1</th>\n",
       "      <th>Var2</th>\n",
       "      <th>Var3</th>\n",
       "      <th>Var4</th>\n",
       "      <th>Var5</th>\n",
       "      <th>Var6</th>\n",
       "      <th>Var7</th>\n",
       "      <th>Var8</th>\n",
       "      <th>Var9</th>\n",
       "      <th>Var10</th>\n",
       "      <th>...</th>\n",
       "      <th>Var183</th>\n",
       "      <th>Var184</th>\n",
       "      <th>Var185</th>\n",
       "      <th>Var186</th>\n",
       "      <th>Var187</th>\n",
       "      <th>Var188</th>\n",
       "      <th>Var189</th>\n",
       "      <th>Var190</th>\n",
       "      <th>Var209</th>\n",
       "      <th>Var230</th>\n",
       "    </tr>\n",
       "  </thead>\n",
       "  <tbody>\n",
       "    <tr>\n",
       "      <th>count</th>\n",
       "      <td>702.000000</td>\n",
       "      <td>1241.000000</td>\n",
       "      <td>1240.000000</td>\n",
       "      <td>1579.000000</td>\n",
       "      <td>1.487000e+03</td>\n",
       "      <td>44471.000000</td>\n",
       "      <td>44461.000000</td>\n",
       "      <td>0.0</td>\n",
       "      <td>702.000000</td>\n",
       "      <td>1.487000e+03</td>\n",
       "      <td>...</td>\n",
       "      <td>1.241000e+03</td>\n",
       "      <td>1241.000000</td>\n",
       "      <td>0.0</td>\n",
       "      <td>702.000000</td>\n",
       "      <td>702.00000</td>\n",
       "      <td>1241.000000</td>\n",
       "      <td>21022.000000</td>\n",
       "      <td>333.000000</td>\n",
       "      <td>0.0</td>\n",
       "      <td>0.0</td>\n",
       "    </tr>\n",
       "    <tr>\n",
       "      <th>mean</th>\n",
       "      <td>11.487179</td>\n",
       "      <td>0.004029</td>\n",
       "      <td>425.298387</td>\n",
       "      <td>0.125396</td>\n",
       "      <td>2.387933e+05</td>\n",
       "      <td>1326.437116</td>\n",
       "      <td>6.809496</td>\n",
       "      <td>NaN</td>\n",
       "      <td>48.145299</td>\n",
       "      <td>3.926057e+05</td>\n",
       "      <td>...</td>\n",
       "      <td>7.777380e+04</td>\n",
       "      <td>8.460919</td>\n",
       "      <td>NaN</td>\n",
       "      <td>3.299145</td>\n",
       "      <td>16.54416</td>\n",
       "      <td>167.368477</td>\n",
       "      <td>270.142137</td>\n",
       "      <td>22007.045192</td>\n",
       "      <td>NaN</td>\n",
       "      <td>NaN</td>\n",
       "    </tr>\n",
       "    <tr>\n",
       "      <th>std</th>\n",
       "      <td>40.709951</td>\n",
       "      <td>0.141933</td>\n",
       "      <td>4270.193518</td>\n",
       "      <td>1.275481</td>\n",
       "      <td>6.441259e+05</td>\n",
       "      <td>2685.693668</td>\n",
       "      <td>6.326053</td>\n",
       "      <td>NaN</td>\n",
       "      <td>154.777855</td>\n",
       "      <td>9.280896e+05</td>\n",
       "      <td>...</td>\n",
       "      <td>2.016188e+05</td>\n",
       "      <td>46.973777</td>\n",
       "      <td>NaN</td>\n",
       "      <td>8.781967</td>\n",
       "      <td>60.22303</td>\n",
       "      <td>113.980072</td>\n",
       "      <td>86.707692</td>\n",
       "      <td>29085.146490</td>\n",
       "      <td>NaN</td>\n",
       "      <td>NaN</td>\n",
       "    </tr>\n",
       "    <tr>\n",
       "      <th>min</th>\n",
       "      <td>0.000000</td>\n",
       "      <td>0.000000</td>\n",
       "      <td>0.000000</td>\n",
       "      <td>0.000000</td>\n",
       "      <td>0.000000e+00</td>\n",
       "      <td>0.000000</td>\n",
       "      <td>0.000000</td>\n",
       "      <td>NaN</td>\n",
       "      <td>0.000000</td>\n",
       "      <td>0.000000e+00</td>\n",
       "      <td>...</td>\n",
       "      <td>0.000000e+00</td>\n",
       "      <td>0.000000</td>\n",
       "      <td>NaN</td>\n",
       "      <td>0.000000</td>\n",
       "      <td>0.00000</td>\n",
       "      <td>-6.420000</td>\n",
       "      <td>6.000000</td>\n",
       "      <td>0.000000</td>\n",
       "      <td>NaN</td>\n",
       "      <td>NaN</td>\n",
       "    </tr>\n",
       "    <tr>\n",
       "      <th>25%</th>\n",
       "      <td>0.000000</td>\n",
       "      <td>0.000000</td>\n",
       "      <td>0.000000</td>\n",
       "      <td>0.000000</td>\n",
       "      <td>0.000000e+00</td>\n",
       "      <td>518.000000</td>\n",
       "      <td>0.000000</td>\n",
       "      <td>NaN</td>\n",
       "      <td>4.000000</td>\n",
       "      <td>0.000000e+00</td>\n",
       "      <td>...</td>\n",
       "      <td>0.000000e+00</td>\n",
       "      <td>0.000000</td>\n",
       "      <td>NaN</td>\n",
       "      <td>0.000000</td>\n",
       "      <td>0.00000</td>\n",
       "      <td>19.380000</td>\n",
       "      <td>204.000000</td>\n",
       "      <td>2732.670000</td>\n",
       "      <td>NaN</td>\n",
       "      <td>NaN</td>\n",
       "    </tr>\n",
       "    <tr>\n",
       "      <th>50%</th>\n",
       "      <td>0.000000</td>\n",
       "      <td>0.000000</td>\n",
       "      <td>0.000000</td>\n",
       "      <td>0.000000</td>\n",
       "      <td>0.000000e+00</td>\n",
       "      <td>861.000000</td>\n",
       "      <td>7.000000</td>\n",
       "      <td>NaN</td>\n",
       "      <td>20.000000</td>\n",
       "      <td>0.000000e+00</td>\n",
       "      <td>...</td>\n",
       "      <td>0.000000e+00</td>\n",
       "      <td>0.000000</td>\n",
       "      <td>NaN</td>\n",
       "      <td>0.000000</td>\n",
       "      <td>4.00000</td>\n",
       "      <td>197.640000</td>\n",
       "      <td>270.000000</td>\n",
       "      <td>12668.940000</td>\n",
       "      <td>NaN</td>\n",
       "      <td>NaN</td>\n",
       "    </tr>\n",
       "    <tr>\n",
       "      <th>75%</th>\n",
       "      <td>16.000000</td>\n",
       "      <td>0.000000</td>\n",
       "      <td>0.000000</td>\n",
       "      <td>0.000000</td>\n",
       "      <td>1.187425e+05</td>\n",
       "      <td>1428.000000</td>\n",
       "      <td>7.000000</td>\n",
       "      <td>NaN</td>\n",
       "      <td>46.000000</td>\n",
       "      <td>2.628630e+05</td>\n",
       "      <td>...</td>\n",
       "      <td>4.881000e+04</td>\n",
       "      <td>8.000000</td>\n",
       "      <td>NaN</td>\n",
       "      <td>6.000000</td>\n",
       "      <td>14.00000</td>\n",
       "      <td>252.960000</td>\n",
       "      <td>330.000000</td>\n",
       "      <td>29396.340000</td>\n",
       "      <td>NaN</td>\n",
       "      <td>NaN</td>\n",
       "    </tr>\n",
       "    <tr>\n",
       "      <th>max</th>\n",
       "      <td>680.000000</td>\n",
       "      <td>5.000000</td>\n",
       "      <td>130668.000000</td>\n",
       "      <td>27.000000</td>\n",
       "      <td>6.048550e+06</td>\n",
       "      <td>131761.000000</td>\n",
       "      <td>140.000000</td>\n",
       "      <td>NaN</td>\n",
       "      <td>2300.000000</td>\n",
       "      <td>1.232559e+07</td>\n",
       "      <td>...</td>\n",
       "      <td>3.048400e+06</td>\n",
       "      <td>1200.000000</td>\n",
       "      <td>NaN</td>\n",
       "      <td>102.000000</td>\n",
       "      <td>910.00000</td>\n",
       "      <td>628.620000</td>\n",
       "      <td>642.000000</td>\n",
       "      <td>230427.000000</td>\n",
       "      <td>NaN</td>\n",
       "      <td>NaN</td>\n",
       "    </tr>\n",
       "  </tbody>\n",
       "</table>\n",
       "<p>8 rows × 192 columns</p>\n",
       "</div>"
      ],
      "text/plain": [
       "             Var1         Var2           Var3         Var4          Var5  \\\n",
       "count  702.000000  1241.000000    1240.000000  1579.000000  1.487000e+03   \n",
       "mean    11.487179     0.004029     425.298387     0.125396  2.387933e+05   \n",
       "std     40.709951     0.141933    4270.193518     1.275481  6.441259e+05   \n",
       "min      0.000000     0.000000       0.000000     0.000000  0.000000e+00   \n",
       "25%      0.000000     0.000000       0.000000     0.000000  0.000000e+00   \n",
       "50%      0.000000     0.000000       0.000000     0.000000  0.000000e+00   \n",
       "75%     16.000000     0.000000       0.000000     0.000000  1.187425e+05   \n",
       "max    680.000000     5.000000  130668.000000    27.000000  6.048550e+06   \n",
       "\n",
       "                Var6          Var7  Var8         Var9         Var10   ...    \\\n",
       "count   44471.000000  44461.000000   0.0   702.000000  1.487000e+03   ...     \n",
       "mean     1326.437116      6.809496   NaN    48.145299  3.926057e+05   ...     \n",
       "std      2685.693668      6.326053   NaN   154.777855  9.280896e+05   ...     \n",
       "min         0.000000      0.000000   NaN     0.000000  0.000000e+00   ...     \n",
       "25%       518.000000      0.000000   NaN     4.000000  0.000000e+00   ...     \n",
       "50%       861.000000      7.000000   NaN    20.000000  0.000000e+00   ...     \n",
       "75%      1428.000000      7.000000   NaN    46.000000  2.628630e+05   ...     \n",
       "max    131761.000000    140.000000   NaN  2300.000000  1.232559e+07   ...     \n",
       "\n",
       "             Var183       Var184  Var185      Var186     Var187       Var188  \\\n",
       "count  1.241000e+03  1241.000000     0.0  702.000000  702.00000  1241.000000   \n",
       "mean   7.777380e+04     8.460919     NaN    3.299145   16.54416   167.368477   \n",
       "std    2.016188e+05    46.973777     NaN    8.781967   60.22303   113.980072   \n",
       "min    0.000000e+00     0.000000     NaN    0.000000    0.00000    -6.420000   \n",
       "25%    0.000000e+00     0.000000     NaN    0.000000    0.00000    19.380000   \n",
       "50%    0.000000e+00     0.000000     NaN    0.000000    4.00000   197.640000   \n",
       "75%    4.881000e+04     8.000000     NaN    6.000000   14.00000   252.960000   \n",
       "max    3.048400e+06  1200.000000     NaN  102.000000  910.00000   628.620000   \n",
       "\n",
       "             Var189         Var190  Var209  Var230  \n",
       "count  21022.000000     333.000000     0.0     0.0  \n",
       "mean     270.142137   22007.045192     NaN     NaN  \n",
       "std       86.707692   29085.146490     NaN     NaN  \n",
       "min        6.000000       0.000000     NaN     NaN  \n",
       "25%      204.000000    2732.670000     NaN     NaN  \n",
       "50%      270.000000   12668.940000     NaN     NaN  \n",
       "75%      330.000000   29396.340000     NaN     NaN  \n",
       "max      642.000000  230427.000000     NaN     NaN  \n",
       "\n",
       "[8 rows x 192 columns]"
      ]
     },
     "execution_count": 4,
     "metadata": {},
     "output_type": "execute_result"
    }
   ],
   "source": [
    "df_train.describe()"
   ]
  },
  {
   "cell_type": "markdown",
   "metadata": {},
   "source": [
    "Muitas colunas vazias (tudo NaN), podemos retirá-las."
   ]
  },
  {
   "cell_type": "code",
   "execution_count": 5,
   "metadata": {},
   "outputs": [
    {
     "name": "stdout",
     "output_type": "stream",
     "text": [
      "(50000, 230)\n",
      "(50000, 230)\n",
      "(50000, 212)\n",
      "(50000, 212)\n"
     ]
    }
   ],
   "source": [
    "print(df_train.shape)\n",
    "print(df_test.shape)\n",
    "df_train.dropna(axis='columns', how='all', inplace=True)\n",
    "df_test.dropna(axis='columns', how='all', inplace=True)\n",
    "print(df_train.shape)\n",
    "print(df_test.shape)"
   ]
  },
  {
   "cell_type": "code",
   "execution_count": 6,
   "metadata": {},
   "outputs": [
    {
     "name": "stdout",
     "output_type": "stream",
     "text": [
      "(50000, 212)\n",
      "(50000, 212)\n",
      "(50000, 212)\n",
      "(50000, 212)\n"
     ]
    }
   ],
   "source": [
    "print(df_train.shape)\n",
    "print(df_test.shape)\n",
    "# retirar linhas que só tem na\n",
    "df_train.dropna(axis='rows', how='all', inplace=True)\n",
    "df_test.dropna(axis='rows', how='all', inplace=True)\n",
    "print(df_train.shape)\n",
    "print(df_test.shape)"
   ]
  },
  {
   "cell_type": "code",
   "execution_count": 7,
   "metadata": {},
   "outputs": [
    {
     "data": {
      "image/png": "[encoded data removed]",
      "text/plain": [
       "<matplotlib.figure.Figure at 0x7f0f185d4f60>"
      ]
     },
     "metadata": {},
     "output_type": "display_data"
    }
   ],
   "source": [
    "def plotar_grafico_analise_colunas_nan(df):\n",
    "    graf_data = df.isnull().sum(axis='rows').sort_values().tolist()\n",
    "\n",
    "    plt.rcParams[\"figure.figsize\"] = [25,10]\n",
    "    plt.grid(True)\n",
    "    plt.plot(graf_data)\n",
    "    plt.xticks(np.arange(0, 231, 3))\n",
    "    plt.yticks(np.arange(0, 50001, 2500))    \n",
    "    plt.show()\n",
    "    \n",
    "plotar_grafico_analise_colunas_nan(df_train)\n",
    "#plotar_grafico_analise_colunas_nan(df_test)"
   ]
  },
  {
   "cell_type": "markdown",
   "metadata": {},
   "source": [
    "Mais da metade das features possuem +47500 valores nulos"
   ]
  },
  {
   "cell_type": "code",
   "execution_count": 8,
   "metadata": {},
   "outputs": [
    {
     "name": "stdout",
     "output_type": "stream",
     "text": [
      "Shape original train:  (50000, 212)\n",
      "Shape original test:  (50000, 212)\n",
      "Colunas a serem removidas:  136\n",
      "Shape após remoção train:  (50000, 76)\n",
      "Shape após remoção test:  (50000, 76)\n"
     ]
    }
   ],
   "source": [
    "max_nan_por_col = 37500\n",
    "\n",
    "print('Shape original train: ', df_train.shape)\n",
    "print('Shape original test: ', df_test.shape)\n",
    "\n",
    "df_train_count_nan = (df_train.isnull().sum(axis='rows') > max_nan_por_col)\n",
    "print('Colunas a serem removidas: ', df_train_count_nan.sum())\n",
    "\n",
    "df_train_count_nan_dict = df_train_count_nan.to_dict()\n",
    "columns_to_drop = [o for o in df_train_count_nan_dict if df_train_count_nan_dict[o] is True]\n",
    "\n",
    "df_train_colunas_filtradas = df_train.drop(columns_to_drop, axis='columns')\n",
    "df_test_colunas_filtradas = df_test.drop(columns_to_drop, axis='columns')\n",
    "\n",
    "print('Shape após remoção train: ', df_train_colunas_filtradas.shape)\n",
    "print('Shape após remoção test: ', df_test_colunas_filtradas.shape)"
   ]
  },
  {
   "cell_type": "code",
   "execution_count": 9,
   "metadata": {},
   "outputs": [
    {
     "data": {
      "image/png": "[encoded data removed]",
      "text/plain": [
       "<matplotlib.figure.Figure at 0x7f0eebd29978>"
      ]
     },
     "metadata": {},
     "output_type": "display_data"
    }
   ],
   "source": [
    "plotar_grafico_analise_colunas_nan(df_train_colunas_filtradas)\n",
    "#plotar_grafico_analise_colunas_nan(df_test_colunas_filtradas)"
   ]
  },
  {
   "cell_type": "code",
   "execution_count": 10,
   "metadata": {},
   "outputs": [
    {
     "name": "stdout",
     "output_type": "stream",
     "text": [
      "71518\n"
     ]
    },
    {
     "data": {
      "text/plain": [
       "<matplotlib.axes._subplots.AxesSubplot at 0x7f0ee8954b38>"
      ]
     },
     "execution_count": 10,
     "metadata": {},
     "output_type": "execute_result"
    },
    {
     "data": {
      "image/png": "[encoded data removed]",
      "text/plain": [
       "<matplotlib.figure.Figure at 0x7f0ee89c3c18>"
      ]
     },
     "metadata": {},
     "output_type": "display_data"
    }
   ],
   "source": [
    "df_train_colunas_filtradas_object = df_train_colunas_filtradas.select_dtypes(include=['object'])\n",
    "df_test_colunas_filtradas_object = df_train_colunas_filtradas.select_dtypes(include=['object'])\n",
    "\n",
    "s = df_train_colunas_filtradas_object.agg(lambda x: len(x.dropna()) - len(x.unique()) )\n",
    "\n",
    "s_unique = df_train_colunas_filtradas_object.agg(lambda x: len(x.unique()) )\n",
    "print(s_unique.sum())\n",
    "\n",
    "s.plot(kind=\"bar\")"
   ]
  },
  {
   "cell_type": "code",
   "execution_count": 11,
   "metadata": {},
   "outputs": [],
   "source": [
    "names = list(df_train_colunas_filtradas_object.columns.values)\n",
    "temp_df_train = pd.concat([df_train_colunas_filtradas_object],axis=0)\n",
    "temp_df_test = pd.concat([df_test_colunas_filtradas_object],axis=0)\n",
    "\n",
    "for i in names:\n",
    "    temp_df_train[i] = temp_df_train[i].fillna('MISSING')\n",
    "    temp_df_train.loc[temp_df_train[i].value_counts()[temp_df_train[i]].values < 100, i] = \"RARE_VALUE\"\n",
    "    \n",
    "    temp_df_test[i] = temp_df_test[i].fillna('MISSING')\n",
    "    temp_df_test.loc[temp_df_test[i].value_counts()[temp_df_test[i]].values < 100, i] = \"RARE_VALUE\"\n",
    "\n",
    "\n",
    "#temp_df.loc[temp_df[i].value_counts()[temp_df[i]].values < 100, i] = \"RARE_VALUE\"\n",
    "#temp_df[i].value_counts()"
   ]
  },
  {
   "cell_type": "code",
   "execution_count": 12,
   "metadata": {},
   "outputs": [
    {
     "name": "stdout",
     "output_type": "stream",
     "text": [
      "925\n"
     ]
    },
    {
     "data": {
      "text/plain": [
       "<matplotlib.axes._subplots.AxesSubplot at 0x7f0ee88667b8>"
      ]
     },
     "execution_count": 12,
     "metadata": {},
     "output_type": "execute_result"
    },
    {
     "data": {
      "image/png": "[encoded data removed]",
      "text/plain": [
       "<matplotlib.figure.Figure at 0x7f0ee88af160>"
      ]
     },
     "metadata": {},
     "output_type": "display_data"
    }
   ],
   "source": [
    "# verificar qtde de valores unicos por feature e geral\n",
    "s = temp_df_train.agg(lambda x: len(x.unique()) )\n",
    "#s = temp_df_test.agg(lambda x: len(x.unique()) )\n",
    "\n",
    "print(s.sum())\n",
    "s.plot(kind=\"bar\")"
   ]
  },
  {
   "cell_type": "code",
   "execution_count": 13,
   "metadata": {},
   "outputs": [],
   "source": [
    "# fillna de valores numericos com a media\n",
    "df_train_colunas_filtradas_not_obj = df_train_colunas_filtradas.select_dtypes(exclude=['object'])\n",
    "df_test_colunas_filtradas_not_obj = df_test_colunas_filtradas.select_dtypes(exclude=['object'])\n",
    "\n",
    "df_train_filled = df_train_colunas_filtradas_not_obj.groupby(df_train_colunas_filtradas_not_obj.columns, axis = 1).transform(lambda x: x.fillna(x.mean()))\n",
    "df_test_filled = df_test_colunas_filtradas_not_obj.groupby(df_test_colunas_filtradas_not_obj.columns, axis = 1).transform(lambda x: x.fillna(x.mean()))\n",
    "\n",
    "# por algum motivo o fillna não está sendo aplicado na coluna Var109\n",
    "df_train_filled['Var109'] = df_train_filled['Var109'].fillna(df_train_filled['Var109'].mean())\n",
    "df_test_filled['Var109'] = df_test_filled['Var109'].fillna(df_test_filled['Var109'].mean())"
   ]
  },
  {
   "cell_type": "code",
   "execution_count": 14,
   "metadata": {},
   "outputs": [],
   "source": [
    "# normalização dos valores numericos\n",
    "normalizer = preprocessing.Normalizer().fit(df_train_filled)\n",
    "\n",
    "X_train_normalized = normalizer.transform(df_train_filled)\n",
    "df_train_filled.loc[:,:] = X_train_normalized\n",
    "\n",
    "X_test_normalized = normalizer.transform(df_test_filled)\n",
    "df_test_filled.loc[:,:] = X_test_normalized"
   ]
  },
  {
   "cell_type": "code",
   "execution_count": 15,
   "metadata": {},
   "outputs": [
    {
     "name": "stdout",
     "output_type": "stream",
     "text": [
      "(50000, 967)\n",
      "(50000, 967)\n"
     ]
    },
    {
     "data": {
      "text/html": [
       "<div>\n",
       "<style scoped>\n",
       "    .dataframe tbody tr th:only-of-type {\n",
       "        vertical-align: middle;\n",
       "    }\n",
       "\n",
       "    .dataframe tbody tr th {\n",
       "        vertical-align: top;\n",
       "    }\n",
       "\n",
       "    .dataframe thead th {\n",
       "        text-align: right;\n",
       "    }\n",
       "</style>\n",
       "<table border=\"1\" class=\"dataframe\">\n",
       "  <thead>\n",
       "    <tr style=\"text-align: right;\">\n",
       "      <th></th>\n",
       "      <th>Var6</th>\n",
       "      <th>Var7</th>\n",
       "      <th>Var13</th>\n",
       "      <th>Var21</th>\n",
       "      <th>Var22</th>\n",
       "      <th>Var24</th>\n",
       "      <th>Var25</th>\n",
       "      <th>Var28</th>\n",
       "      <th>Var35</th>\n",
       "      <th>Var38</th>\n",
       "      <th>...</th>\n",
       "      <th>Var228_WfJYmPMksSqa1pajvfG</th>\n",
       "      <th>Var228_Zy3gnGM</th>\n",
       "      <th>Var228_am14IcfM7tWLrUmRT52KtA</th>\n",
       "      <th>Var228_ib5G6X1eUxUn6</th>\n",
       "      <th>Var228_iyHGyLCEkQ</th>\n",
       "      <th>Var228_xwM2aC7IdeMC0</th>\n",
       "      <th>Var229_MISSING</th>\n",
       "      <th>Var229_RARE_VALUE</th>\n",
       "      <th>Var229_am7c</th>\n",
       "      <th>Var229_mj86</th>\n",
       "    </tr>\n",
       "  </thead>\n",
       "  <tbody>\n",
       "    <tr>\n",
       "      <th>0</th>\n",
       "      <td>0.000587</td>\n",
       "      <td>2.690928e-06</td>\n",
       "      <td>0.000071</td>\n",
       "      <td>0.000178</td>\n",
       "      <td>0.000223</td>\n",
       "      <td>5.381855e-06</td>\n",
       "      <td>0.000049</td>\n",
       "      <td>0.000064</td>\n",
       "      <td>0.0</td>\n",
       "      <td>0.001372</td>\n",
       "      <td>...</td>\n",
       "      <td>0</td>\n",
       "      <td>0</td>\n",
       "      <td>0</td>\n",
       "      <td>0</td>\n",
       "      <td>0</td>\n",
       "      <td>0</td>\n",
       "      <td>1</td>\n",
       "      <td>0</td>\n",
       "      <td>0</td>\n",
       "      <td>0</td>\n",
       "    </tr>\n",
       "    <tr>\n",
       "      <th>1</th>\n",
       "      <td>0.000042</td>\n",
       "      <td>0.000000e+00</td>\n",
       "      <td>0.000000</td>\n",
       "      <td>0.000013</td>\n",
       "      <td>0.000017</td>\n",
       "      <td>1.593841e-07</td>\n",
       "      <td>0.000002</td>\n",
       "      <td>0.000028</td>\n",
       "      <td>0.0</td>\n",
       "      <td>0.379730</td>\n",
       "      <td>...</td>\n",
       "      <td>0</td>\n",
       "      <td>0</td>\n",
       "      <td>0</td>\n",
       "      <td>0</td>\n",
       "      <td>0</td>\n",
       "      <td>0</td>\n",
       "      <td>1</td>\n",
       "      <td>0</td>\n",
       "      <td>0</td>\n",
       "      <td>0</td>\n",
       "    </tr>\n",
       "    <tr>\n",
       "      <th>2</th>\n",
       "      <td>0.000432</td>\n",
       "      <td>5.781045e-07</td>\n",
       "      <td>0.000075</td>\n",
       "      <td>0.000100</td>\n",
       "      <td>0.000125</td>\n",
       "      <td>2.147245e-06</td>\n",
       "      <td>0.000067</td>\n",
       "      <td>0.000018</td>\n",
       "      <td>0.0</td>\n",
       "      <td>0.485929</td>\n",
       "      <td>...</td>\n",
       "      <td>0</td>\n",
       "      <td>0</td>\n",
       "      <td>0</td>\n",
       "      <td>1</td>\n",
       "      <td>0</td>\n",
       "      <td>0</td>\n",
       "      <td>0</td>\n",
       "      <td>0</td>\n",
       "      <td>1</td>\n",
       "      <td>0</td>\n",
       "    </tr>\n",
       "    <tr>\n",
       "      <th>3</th>\n",
       "      <td>0.003098</td>\n",
       "      <td>0.000000e+00</td>\n",
       "      <td>0.000000</td>\n",
       "      <td>0.000548</td>\n",
       "      <td>0.000000</td>\n",
       "      <td>1.052760e-05</td>\n",
       "      <td>0.000000</td>\n",
       "      <td>0.000052</td>\n",
       "      <td>0.0</td>\n",
       "      <td>0.000000</td>\n",
       "      <td>...</td>\n",
       "      <td>0</td>\n",
       "      <td>0</td>\n",
       "      <td>0</td>\n",
       "      <td>0</td>\n",
       "      <td>0</td>\n",
       "      <td>0</td>\n",
       "      <td>1</td>\n",
       "      <td>0</td>\n",
       "      <td>0</td>\n",
       "      <td>0</td>\n",
       "    </tr>\n",
       "    <tr>\n",
       "      <th>4</th>\n",
       "      <td>0.000964</td>\n",
       "      <td>6.557749e-06</td>\n",
       "      <td>0.003013</td>\n",
       "      <td>0.000060</td>\n",
       "      <td>0.000075</td>\n",
       "      <td>3.747285e-06</td>\n",
       "      <td>0.000060</td>\n",
       "      <td>0.000187</td>\n",
       "      <td>0.0</td>\n",
       "      <td>0.000000</td>\n",
       "      <td>...</td>\n",
       "      <td>0</td>\n",
       "      <td>0</td>\n",
       "      <td>0</td>\n",
       "      <td>0</td>\n",
       "      <td>0</td>\n",
       "      <td>0</td>\n",
       "      <td>0</td>\n",
       "      <td>0</td>\n",
       "      <td>0</td>\n",
       "      <td>1</td>\n",
       "    </tr>\n",
       "  </tbody>\n",
       "</table>\n",
       "<p>5 rows × 967 columns</p>\n",
       "</div>"
      ],
      "text/plain": [
       "       Var6          Var7     Var13     Var21     Var22         Var24  \\\n",
       "0  0.000587  2.690928e-06  0.000071  0.000178  0.000223  5.381855e-06   \n",
       "1  0.000042  0.000000e+00  0.000000  0.000013  0.000017  1.593841e-07   \n",
       "2  0.000432  5.781045e-07  0.000075  0.000100  0.000125  2.147245e-06   \n",
       "3  0.003098  0.000000e+00  0.000000  0.000548  0.000000  1.052760e-05   \n",
       "4  0.000964  6.557749e-06  0.003013  0.000060  0.000075  3.747285e-06   \n",
       "\n",
       "      Var25     Var28  Var35     Var38     ...       \\\n",
       "0  0.000049  0.000064    0.0  0.001372     ...        \n",
       "1  0.000002  0.000028    0.0  0.379730     ...        \n",
       "2  0.000067  0.000018    0.0  0.485929     ...        \n",
       "3  0.000000  0.000052    0.0  0.000000     ...        \n",
       "4  0.000060  0.000187    0.0  0.000000     ...        \n",
       "\n",
       "   Var228_WfJYmPMksSqa1pajvfG  Var228_Zy3gnGM  Var228_am14IcfM7tWLrUmRT52KtA  \\\n",
       "0                           0               0                              0   \n",
       "1                           0               0                              0   \n",
       "2                           0               0                              0   \n",
       "3                           0               0                              0   \n",
       "4                           0               0                              0   \n",
       "\n",
       "   Var228_ib5G6X1eUxUn6  Var228_iyHGyLCEkQ  Var228_xwM2aC7IdeMC0  \\\n",
       "0                     0                  0                     0   \n",
       "1                     0                  0                     0   \n",
       "2                     1                  0                     0   \n",
       "3                     0                  0                     0   \n",
       "4                     0                  0                     0   \n",
       "\n",
       "   Var229_MISSING  Var229_RARE_VALUE  Var229_am7c  Var229_mj86  \n",
       "0               1                  0            0            0  \n",
       "1               1                  0            0            0  \n",
       "2               0                  0            1            0  \n",
       "3               1                  0            0            0  \n",
       "4               0                  0            0            1  \n",
       "\n",
       "[5 rows x 967 columns]"
      ]
     },
     "execution_count": 15,
     "metadata": {},
     "output_type": "execute_result"
    }
   ],
   "source": [
    "# gerar dummies das colunas categoricas\n",
    "temp_df_train_dummies = pd.get_dummies( temp_df_train )\n",
    "temp_df_test_dummies = pd.get_dummies( temp_df_test )\n",
    "\n",
    "# juntar com os valores numericos\n",
    "temp_df_train_concat = pd.concat([df_train_filled, temp_df_train_dummies], axis=1)\n",
    "temp_df_test_concat = pd.concat([df_test_filled, temp_df_test_dummies], axis=1)\n",
    "\n",
    "print(temp_df_train_concat.shape)\n",
    "print(temp_df_test_concat.shape)\n",
    "\n",
    "temp_df_train_concat.head()\n",
    "#temp_df_test_concat.head()"
   ]
  },
  {
   "cell_type": "code",
   "execution_count": 16,
   "metadata": {},
   "outputs": [],
   "source": [
    "from sklearn.model_selection import train_test_split\n",
    "from sklearn.tree import DecisionTreeClassifier\n",
    "\n",
    "def preparar_y(y):\n",
    "\n",
    "    temp_df_train_concat[y] = dict_Y[y]\n",
    "\n",
    "    train_train, train_test = train_test_split(temp_df_train_concat, test_size=0.3)\n",
    "\n",
    "    temp_df_train_concat.drop(y, axis=1, inplace=True)\n",
    "    \n",
    "    # separacao das features e target\n",
    "    train_X = train_train.drop(y, axis=1)\n",
    "    train_y = train_train[y]\n",
    "    test_X = train_test.drop(y, axis=1)\n",
    "    test_y = train_test[y]\n",
    "    \n",
    "    return train_X, train_y, test_X, test_y\n",
    "\n",
    "    \n",
    "# Y_appetency\n",
    "# Y_churn\n",
    "# Y_upselling\n",
    "train_X, train_y, test_X, test_y = preparar_y('Y_churn')"
   ]
  },
  {
   "cell_type": "code",
   "execution_count": 17,
   "metadata": {},
   "outputs": [],
   "source": [
    "# decision tree\n",
    "tree = DecisionTreeClassifier(max_depth=8, random_state=2)\n",
    "tree = tree.fit(train_X, train_y)\n",
    "pred = tree.predict(test_X)"
   ]
  },
  {
   "cell_type": "code",
   "execution_count": 18,
   "metadata": {},
   "outputs": [],
   "source": [
    "from sklearn import datasets, linear_model\n",
    "# linear regression\n",
    "\n",
    "# Create linear regression object\n",
    "regr = linear_model.LinearRegression()\n",
    "\n",
    "# Train the model using the training sets\n",
    "regr.fit(train_X, train_y)\n",
    "\n",
    "# Make predictions using the testing set\n",
    "pred = regr.predict(test_X)\n",
    "\n",
    "pred = (pd.DataFrame(pred)[0] > 0)"
   ]
  },
  {
   "cell_type": "code",
   "execution_count": 19,
   "metadata": {},
   "outputs": [],
   "source": [
    "def plot_confusion_matrix(cm, classes,\n",
    "                          normalize=False,\n",
    "                          title='Confusion matrix',\n",
    "                          cmap=plt.cm.Blues):\n",
    "    \"\"\"\n",
    "    This function prints and plots the confusion matrix.\n",
    "    Normalization can be applied by setting `normalize=True`.\n",
    "    \"\"\"\n",
    "    if normalize:\n",
    "        cm = cm.astype('float') / cm.sum(axis=1)[:, np.newaxis]\n",
    "        print(\"Normalized confusion matrix\")\n",
    "    else:\n",
    "        print('Confusion matrix, without normalization')\n",
    "\n",
    "    print(cm)\n",
    "    \n",
    "    plt.imshow(cm, interpolation='nearest', cmap=cmap)\n",
    "    plt.title(title)\n",
    "    plt.colorbar()\n",
    "    tick_marks = np.arange(len(classes))\n",
    "    plt.xticks(tick_marks, classes, rotation=0)\n",
    "    plt.yticks(tick_marks, classes)\n",
    "\n",
    "    fmt = '.2f' if normalize else 'd'\n",
    "    thresh = cm.max() / 2.\n",
    "    for i, j in itertools.product(range(cm.shape[0]), range(cm.shape[1])):\n",
    "        plt.text(j, i, format(cm[i, j], fmt),\n",
    "                 horizontalalignment=\"center\",\n",
    "                 color=\"white\" if cm[i, j] > thresh else \"black\")\n",
    "\n",
    "    plt.grid('off')\n",
    "    plt.tight_layout()\n",
    "    plt.ylabel('True label')\n",
    "    plt.xlabel('Predicted label')"
   ]
  },
  {
   "cell_type": "code",
   "execution_count": 20,
   "metadata": {},
   "outputs": [
    {
     "name": "stdout",
     "output_type": "stream",
     "text": [
      "Confusion matrix, without normalization\n",
      "[[ 1651 12211]\n",
      " [   57  1081]]\n",
      "Normalized confusion matrix\n",
      "[[0.12 0.88]\n",
      " [0.05 0.95]]\n"
     ]
    },
    {
     "data": {
      "image/png": "[encoded data removed]",
      "text/plain": [
       "<matplotlib.figure.Figure at 0x7f0eebc12588>"
      ]
     },
     "metadata": {},
     "output_type": "display_data"
    },
    {
     "data": {
      "image/png": "[encoded data removed]",
      "text/plain": [
       "<matplotlib.figure.Figure at 0x7f0eebc12b70>"
      ]
     },
     "metadata": {},
     "output_type": "display_data"
    }
   ],
   "source": [
    "from sklearn.metrics import confusion_matrix\n",
    "import itertools\n",
    "\n",
    "class_names = [0,1]\n",
    "\n",
    "# Compute confusion matrix\n",
    "cnf_matrix = confusion_matrix(test_y, pred)\n",
    "np.set_printoptions(precision=2)\n",
    "\n",
    "# Plot non-normalized confusion matrix\n",
    "plt.rcParams[\"figure.figsize\"] = [5,5]\n",
    "\n",
    "plt.figure()\n",
    "plot_confusion_matrix(cnf_matrix, classes=class_names,\n",
    "                      title='Confusion matrix, without normalization')\n",
    "\n",
    "# Plot normalized confusion matrix\n",
    "plt.figure()\n",
    "plot_confusion_matrix(cnf_matrix, classes=class_names, normalize=True,\n",
    "                      title='Normalized confusion matrix')\n",
    "\n",
    "plt.show()"
   ]
  },
  {
   "cell_type": "code",
   "execution_count": 21,
   "metadata": {},
   "outputs": [
    {
     "data": {
      "text/plain": [
       "0.5345073545688495"
      ]
     },
     "execution_count": 21,
     "metadata": {},
     "output_type": "execute_result"
    }
   ],
   "source": [
    "from sklearn import metrics\n",
    "metrics.roc_auc_score(test_y, pred)"
   ]
  },
  {
   "cell_type": "code",
   "execution_count": 22,
   "metadata": {},
   "outputs": [
    {
     "data": {
      "text/plain": [
       "array([0.64, 0.66, 0.66, 0.66, 0.66])"
      ]
     },
     "execution_count": 22,
     "metadata": {},
     "output_type": "execute_result"
    }
   ],
   "source": [
    "from sklearn.model_selection import cross_val_score\n",
    "from sklearn import svm\n",
    "\n",
    "clf = linear_model.LinearRegression()\n",
    "\n",
    "scores = cross_val_score(clf, train_X, train_y, cv=5, scoring='roc_auc')\n",
    "scores"
   ]
  },
  {
   "cell_type": "code",
   "execution_count": 23,
   "metadata": {},
   "outputs": [],
   "source": [
    "import pandas\n",
    "from pandas.tools.plotting import scatter_matrix\n",
    "import matplotlib.pyplot as plt\n",
    "from sklearn import model_selection\n",
    "from sklearn.metrics import classification_report\n",
    "from sklearn.metrics import confusion_matrix\n",
    "from sklearn.metrics import accuracy_score\n",
    "from sklearn.linear_model import LogisticRegression\n",
    "from sklearn.linear_model import LinearRegression\n",
    "from sklearn.tree import DecisionTreeClassifier\n",
    "from sklearn.neighbors import KNeighborsClassifier\n",
    "from sklearn.discriminant_analysis import LinearDiscriminantAnalysis\n",
    "from sklearn.naive_bayes import GaussianNB\n",
    "from sklearn.svm import SVC\n",
    "\n",
    "\n",
    "def models_comparsion(y_def):\n",
    "\n",
    "    train_y_def = y_def\n",
    "    \n",
    "    # Test options and evaluation metric\n",
    "    seed = 8\n",
    "    scoring = 'roc_auc'\n",
    "\n",
    "    # Spot Check Algorithms\n",
    "    models = []\n",
    "    models.append(('LoR', LogisticRegression()))\n",
    "    models.append(('LiR', LinearRegression()))\n",
    "    #models.append(('LDA', LinearDiscriminantAnalysis()))\n",
    "    #models.append(('KNN', KNeighborsClassifier())) # 0.54\n",
    "    #models.append(('CART', DecisionTreeClassifier())) # 0.51\n",
    "    #models.append(('NB', GaussianNB())) # 0.55\n",
    "\n",
    "    # evaluate each model in turn\n",
    "    results = []\n",
    "    names = []\n",
    "    for name, model in models:\n",
    "        kfold = model_selection.KFold(n_splits=10, random_state=seed)\n",
    "        cv_results = model_selection.cross_val_score(model, train_X, train_y_def, cv=kfold, scoring=scoring)\n",
    "        results.append(cv_results)\n",
    "        names.append(name)\n",
    "        msg = \"%s: %f (%f)\" % (name, cv_results.mean(), cv_results.std())\n",
    "        print(msg)\n",
    "\n",
    "\n",
    "\n",
    "    # Compare Algorithms\n",
    "    fig = plt.figure()\n",
    "    fig.suptitle('Algorithm Comparison')\n",
    "    ax = fig.add_subplot(111)\n",
    "    plt.boxplot(results)\n",
    "    ax.set_xticklabels(names)\n",
    "    plt.show()"
   ]
  },
  {
   "cell_type": "code",
   "execution_count": 28,
   "metadata": {},
   "outputs": [],
   "source": [
    "train_X, train_y, test_X, test_y = preparar_y('Y_churn')\n",
    "#models_comparsion(train_y)"
   ]
  },
  {
   "cell_type": "code",
   "execution_count": 25,
   "metadata": {},
   "outputs": [],
   "source": [
    "train_X, train_y, test_X, test_y = preparar_y('Y_appetency')\n",
    "#models_comparsion(train_y)"
   ]
  },
  {
   "cell_type": "code",
   "execution_count": 26,
   "metadata": {},
   "outputs": [],
   "source": [
    "train_X, train_y, test_X, test_y = preparar_y('Y_upselling')\n",
    "#models_comparsion(train_y)"
   ]
  },
  {
   "cell_type": "code",
   "execution_count": 29,
   "metadata": {},
   "outputs": [
    {
     "data": {
      "text/plain": [
       "False    14965\n",
       "True        35\n",
       "Name: 0, dtype: int64"
      ]
     },
     "execution_count": 29,
     "metadata": {},
     "output_type": "execute_result"
    }
   ],
   "source": [
    "LogisticRegression()\n",
    "\n",
    "# Create linear regression object\n",
    "regr = linear_model.LogisticRegression()\n",
    "\n",
    "# Train the model using the training sets\n",
    "regr.fit(train_X, train_y)\n",
    "\n",
    "# Make predictions using the testing set\n",
    "pred = regr.predict(test_X)\n",
    "\n",
    "#pred = (pd.DataFrame(pred)[0] > 0)\n",
    "pred = pd.DataFrame(pred)\n",
    "\n",
    "pred[0].value_counts()"
   ]
  },
  {
   "cell_type": "code",
   "execution_count": 31,
   "metadata": {},
   "outputs": [
    {
     "data": {
      "text/plain": [
       "LogisticRegression(C=1.0, class_weight=None, dual=False, fit_intercept=True,\n",
       "          intercept_scaling=1, max_iter=100, multi_class='ovr', n_jobs=1,\n",
       "          penalty='l2', random_state=None, solver='liblinear', tol=0.0001,\n",
       "          verbose=0, warm_start=False)"
      ]
     },
     "execution_count": 31,
     "metadata": {},
     "output_type": "execute_result"
    }
   ],
   "source": [
    "train_X, train_y, test_X, test_y = preparar_y('Y_churn')\n",
    "clf = linear_model.LogisticRegression()\n",
    "clf.fit(train_X, train_y)"
   ]
  },
  {
   "cell_type": "code",
   "execution_count": 37,
   "metadata": {},
   "outputs": [],
   "source": [
    "pred = clf.predict(temp_df_test_concat)\n",
    "np.savetxt('out.txt', pred, fmt='%d')"
   ]
  },
  {
   "cell_type": "code",
   "execution_count": null,
   "metadata": {},
   "outputs": [],
   "source": []
  }
 ],
 "metadata": {
  "kernelspec": {
   "display_name": "Python 3",
   "language": "python",
   "name": "python3"
  },
  "language_info": {
   "codemirror_mode": {
    "name": "ipython",
    "version": 3
   },
   "file_extension": ".py",
   "mimetype": "text/x-python",
   "name": "python",
   "nbconvert_exporter": "python",
   "pygments_lexer": "ipython3",
   "version": "3.6.4"
  }
 },
 "nbformat": 4,
 "nbformat_minor": 2
}
